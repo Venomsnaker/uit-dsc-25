{
 "cells": [
  {
   "cell_type": "markdown",
   "id": "63d7f27a",
   "metadata": {},
   "source": [
    "#### Set Up"
   ]
  },
  {
   "cell_type": "code",
   "execution_count": 1,
   "id": "519b1ec1",
   "metadata": {},
   "outputs": [
    {
     "name": "stderr",
     "output_type": "stream",
     "text": [
      "c:\\Users\\ADMIN\\.conda\\envs\\base-12\\Lib\\site-packages\\tqdm\\auto.py:21: TqdmWarning: IProgress not found. Please update jupyter and ipywidgets. See https://ipywidgets.readthedocs.io/en/stable/user_install.html\n",
      "  from .autonotebook import tqdm as notebook_tqdm\n"
     ]
    }
   ],
   "source": [
    "import pandas as pd\n",
    "import json\n",
    "import os\n",
    "from dotenv import load_dotenv\n",
    "load_dotenv()\n",
    "\n",
    "from direct_asking import DirectAsking, DirectAskingAPI\n",
    "from utils import load_data"
   ]
  },
  {
   "cell_type": "code",
   "execution_count": 2,
   "id": "33ab31a5",
   "metadata": {},
   "outputs": [],
   "source": [
    "# direct_asking = DirectAsking(\n",
    "#     model_name='Qwen/Qwen3-4B-Instruct-2507',\n",
    "#     user_prompt_path='prompts/direct_asking_user.txt',\n",
    "# )\n",
    "\n",
    "direct_asking_api = DirectAskingAPI(\n",
    "    model='gpt-4o-mini-2024-07-18',\n",
    "    api_key=os.getenv('OPENAI_API_KEY'),\n",
    "    user_prompt_path='prompts/direct_asking_user.txt',\n",
    "    retries=3,\n",
    ")"
   ]
  },
  {
   "cell_type": "code",
   "execution_count": 3,
   "id": "d0972fa1",
   "metadata": {},
   "outputs": [
    {
     "data": {
      "text/html": [
       "<div>\n",
       "<style scoped>\n",
       "    .dataframe tbody tr th:only-of-type {\n",
       "        vertical-align: middle;\n",
       "    }\n",
       "\n",
       "    .dataframe tbody tr th {\n",
       "        vertical-align: top;\n",
       "    }\n",
       "\n",
       "    .dataframe thead th {\n",
       "        text-align: right;\n",
       "    }\n",
       "</style>\n",
       "<table border=\"1\" class=\"dataframe\">\n",
       "  <thead>\n",
       "    <tr style=\"text-align: right;\">\n",
       "      <th></th>\n",
       "      <th>id</th>\n",
       "      <th>context</th>\n",
       "      <th>prompt</th>\n",
       "      <th>response</th>\n",
       "      <th>label</th>\n",
       "    </tr>\n",
       "  </thead>\n",
       "  <tbody>\n",
       "    <tr>\n",
       "      <th>0</th>\n",
       "      <td>9b1ea51d-d1ff-45ba-8cf1-6a91328e8600</td>\n",
       "      <td>Vào những năm 1870, hai nhà điêu khắc Augustus...</td>\n",
       "      <td>Vào những năm 1960, nơi nào trở thành trung tâ...</td>\n",
       "      <td>Quảng trường Washington là trung tâm của thế h...</td>\n",
       "      <td>extrinsic</td>\n",
       "    </tr>\n",
       "    <tr>\n",
       "      <th>1</th>\n",
       "      <td>db7a89c6-2a6a-42af-beef-58e557ecc819</td>\n",
       "      <td>Cách mạng Tháng Mười đã biến một cuộc chiến tr...</td>\n",
       "      <td>Cách mạng Tháng Mười đã khởi xướng chủ nghĩa p...</td>\n",
       "      <td>Sai. Cách mạng Tháng Mười đã đánh bại chủ nghĩ...</td>\n",
       "      <td>no</td>\n",
       "    </tr>\n",
       "    <tr>\n",
       "      <th>2</th>\n",
       "      <td>10fca062-d343-4eca-8434-93c7a8aa5e0e</td>\n",
       "      <td>Vị trí địa lý nằm giữa phương Đông và Địa Trun...</td>\n",
       "      <td>Dựa trên việc Đế quốc Ottoman không bao giờ ki...</td>\n",
       "      <td>Nền ẩm thực của Thổ Nhĩ Kỳ được xây dựng từ gi...</td>\n",
       "      <td>extrinsic</td>\n",
       "    </tr>\n",
       "    <tr>\n",
       "      <th>3</th>\n",
       "      <td>ece8eb9e-d6bb-407a-a567-d9531861c603</td>\n",
       "      <td>Hồ Quý Ly trước có tên là Lê Quý Ly (黎季犛), biể...</td>\n",
       "      <td>Đời cháu thứ 12 của Hồ Hưng Dật sống ở đâu?</td>\n",
       "      <td>Đời cháu thứ 12 của Hồ Hưng Dật, là Hồ Liêm, s...</td>\n",
       "      <td>no</td>\n",
       "    </tr>\n",
       "    <tr>\n",
       "      <th>4</th>\n",
       "      <td>b613217f-df2a-491e-8326-25811a31eb09</td>\n",
       "      <td>Năm 2007, Bồ Đào Nha có khoảng 332.137 người n...</td>\n",
       "      <td>Từ thập niên 1990, tại sao xuất hiện một vài l...</td>\n",
       "      <td>Mặc dù Bồ Đào Nha đã đóng cửa biên giới hoàn t...</td>\n",
       "      <td>intrinsic</td>\n",
       "    </tr>\n",
       "  </tbody>\n",
       "</table>\n",
       "</div>"
      ],
      "text/plain": [
       "                                     id  \\\n",
       "0  9b1ea51d-d1ff-45ba-8cf1-6a91328e8600   \n",
       "1  db7a89c6-2a6a-42af-beef-58e557ecc819   \n",
       "2  10fca062-d343-4eca-8434-93c7a8aa5e0e   \n",
       "3  ece8eb9e-d6bb-407a-a567-d9531861c603   \n",
       "4  b613217f-df2a-491e-8326-25811a31eb09   \n",
       "\n",
       "                                             context  \\\n",
       "0  Vào những năm 1870, hai nhà điêu khắc Augustus...   \n",
       "1  Cách mạng Tháng Mười đã biến một cuộc chiến tr...   \n",
       "2  Vị trí địa lý nằm giữa phương Đông và Địa Trun...   \n",
       "3  Hồ Quý Ly trước có tên là Lê Quý Ly (黎季犛), biể...   \n",
       "4  Năm 2007, Bồ Đào Nha có khoảng 332.137 người n...   \n",
       "\n",
       "                                              prompt  \\\n",
       "0  Vào những năm 1960, nơi nào trở thành trung tâ...   \n",
       "1  Cách mạng Tháng Mười đã khởi xướng chủ nghĩa p...   \n",
       "2  Dựa trên việc Đế quốc Ottoman không bao giờ ki...   \n",
       "3        Đời cháu thứ 12 của Hồ Hưng Dật sống ở đâu?   \n",
       "4  Từ thập niên 1990, tại sao xuất hiện một vài l...   \n",
       "\n",
       "                                            response      label  \n",
       "0  Quảng trường Washington là trung tâm của thế h...  extrinsic  \n",
       "1  Sai. Cách mạng Tháng Mười đã đánh bại chủ nghĩ...         no  \n",
       "2  Nền ẩm thực của Thổ Nhĩ Kỳ được xây dựng từ gi...  extrinsic  \n",
       "3  Đời cháu thứ 12 của Hồ Hưng Dật, là Hồ Liêm, s...         no  \n",
       "4  Mặc dù Bồ Đào Nha đã đóng cửa biên giới hoàn t...  intrinsic  "
      ]
     },
     "execution_count": 3,
     "metadata": {},
     "output_type": "execute_result"
    }
   ],
   "source": [
    "path = 'data/vihallu-train.csv'\n",
    "data = load_data(path, 'pandas')\n",
    "data.head()"
   ]
  },
  {
   "cell_type": "markdown",
   "id": "86d9fe0a",
   "metadata": {},
   "source": [
    "#### Benchmark"
   ]
  },
  {
   "cell_type": "code",
   "execution_count": 4,
   "id": "83dab3b0",
   "metadata": {},
   "outputs": [
    {
     "name": "stderr",
     "output_type": "stream",
     "text": [
      "Processing samples: 100%|██████████| 1000/1000 [11:29<00:00,  1.45it/s]\n"
     ]
    }
   ],
   "source": [
    "from tqdm import tqdm\n",
    "\n",
    "data = data[:1000]\n",
    "result = []\n",
    "\n",
    "for id, sample in tqdm(data.iterrows(), total=len(data), desc=\"Processing samples\"):\n",
    "    label = direct_asking_api.predict(\n",
    "        context=sample['context'],\n",
    "        prompt=sample['prompt'],\n",
    "        response=sample['response']\n",
    "    )\n",
    "    result.append({'id': id, 'pred_label': label, 'true_label': sample['label']})"
   ]
  },
  {
   "cell_type": "code",
   "execution_count": 5,
   "id": "81268b5b",
   "metadata": {},
   "outputs": [],
   "source": [
    "out_path = 'data/output/direct_asking_gpt4o_mini_train.json'\n",
    "\n",
    "with open(out_path, 'w') as fout:\n",
    "    json.dump(result, fout)"
   ]
  }
 ],
 "metadata": {
  "kernelspec": {
   "display_name": "base-12",
   "language": "python",
   "name": "python3"
  },
  "language_info": {
   "codemirror_mode": {
    "name": "ipython",
    "version": 3
   },
   "file_extension": ".py",
   "mimetype": "text/x-python",
   "name": "python",
   "nbconvert_exporter": "python",
   "pygments_lexer": "ipython3",
   "version": "3.12.11"
  }
 },
 "nbformat": 4,
 "nbformat_minor": 5
}
