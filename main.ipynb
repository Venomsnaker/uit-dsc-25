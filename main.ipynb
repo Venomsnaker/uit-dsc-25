{
 "cells": [
  {
   "cell_type": "markdown",
   "id": "05a51ad0",
   "metadata": {},
   "source": [
    "### Packages & Data"
   ]
  },
  {
   "cell_type": "code",
   "execution_count": 2,
   "id": "f424f3d5",
   "metadata": {},
   "outputs": [],
   "source": [
    "import pandas as pd\n",
    "import matplotlib.pyplot as plt\n",
    "import seaborn as sns\n",
    "\n",
    "from utils import read_data"
   ]
  },
  {
   "cell_type": "code",
   "execution_count": null,
   "id": "178ba031",
   "metadata": {},
   "outputs": [
    {
     "data": {
      "text/html": [
       "<div>\n",
       "<style scoped>\n",
       "    .dataframe tbody tr th:only-of-type {\n",
       "        vertical-align: middle;\n",
       "    }\n",
       "\n",
       "    .dataframe tbody tr th {\n",
       "        vertical-align: top;\n",
       "    }\n",
       "\n",
       "    .dataframe thead th {\n",
       "        text-align: right;\n",
       "    }\n",
       "</style>\n",
       "<table border=\"1\" class=\"dataframe\">\n",
       "  <thead>\n",
       "    <tr style=\"text-align: right;\">\n",
       "      <th></th>\n",
       "      <th>id</th>\n",
       "      <th>context</th>\n",
       "      <th>prompt</th>\n",
       "      <th>response</th>\n",
       "      <th>label</th>\n",
       "    </tr>\n",
       "  </thead>\n",
       "  <tbody>\n",
       "    <tr>\n",
       "      <th>0</th>\n",
       "      <td>c480e0d2-72e5-47d6-baca-a884db935c8c</td>\n",
       "      <td>Theo pháp lệnh Vincennes năm 1374, vương quốc ...</td>\n",
       "      <td>Quyền phản đối được khôi phục bởi Orléans đã g...</td>\n",
       "      <td>Quyền phản đối còn cho phép Nghị viện được bổ ...</td>\n",
       "      <td>extrinsic</td>\n",
       "    </tr>\n",
       "    <tr>\n",
       "      <th>1</th>\n",
       "      <td>8e225849-4ed1-4397-8519-2b4cfee0c7c6</td>\n",
       "      <td>Hệ thống đường biển xuất phát từ các cảng biển...</td>\n",
       "      <td>Những sông lớn nào là các tuyến đường thủy nội...</td>\n",
       "      <td>Các tuyến đường thủy nội địa huyết mạch chạy t...</td>\n",
       "      <td>intrinsic</td>\n",
       "    </tr>\n",
       "    <tr>\n",
       "      <th>2</th>\n",
       "      <td>c5a2aef8-4c3f-4bac-9fc3-814094578fc0</td>\n",
       "      <td>Năm 1928, Bộ Giao thông khởi thảo kế hoạch côn...</td>\n",
       "      <td>Độ dài công lộ Hán Trung-Thất Bàn Quan là bao ...</td>\n",
       "      <td>Công lộ Hán Trung-Thất Bàn Quan dài hơn 150 km...</td>\n",
       "      <td>extrinsic</td>\n",
       "    </tr>\n",
       "    <tr>\n",
       "      <th>3</th>\n",
       "      <td>0bae8fee-cd84-4ec1-a324-0777f6fa7a32</td>\n",
       "      <td>Sự tiến hóa của giới thực vật đã theo xu hướng...</td>\n",
       "      <td>Vì thực vật hạt trần chiếm ưu thế trong việc t...</td>\n",
       "      <td>Thực vật hạt trần kém đa dạng hơn và hiếm gặp ...</td>\n",
       "      <td>no</td>\n",
       "    </tr>\n",
       "    <tr>\n",
       "      <th>4</th>\n",
       "      <td>a8dcd1ed-c9a1-4786-b97b-27244896ff95</td>\n",
       "      <td>Kể từ những năm 1970, chính phủ cũng thực hiện...</td>\n",
       "      <td>Cacs loaji dược pham muôn vào thi trường My ph...</td>\n",
       "      <td>Các loại dược phẩm muốn vào thị trường Mỹ phải...</td>\n",
       "      <td>no</td>\n",
       "    </tr>\n",
       "  </tbody>\n",
       "</table>\n",
       "</div>"
      ],
      "text/plain": [
       "                                     id  \\\n",
       "0  c480e0d2-72e5-47d6-baca-a884db935c8c   \n",
       "1  8e225849-4ed1-4397-8519-2b4cfee0c7c6   \n",
       "2  c5a2aef8-4c3f-4bac-9fc3-814094578fc0   \n",
       "3  0bae8fee-cd84-4ec1-a324-0777f6fa7a32   \n",
       "4  a8dcd1ed-c9a1-4786-b97b-27244896ff95   \n",
       "\n",
       "                                             context  \\\n",
       "0  Theo pháp lệnh Vincennes năm 1374, vương quốc ...   \n",
       "1  Hệ thống đường biển xuất phát từ các cảng biển...   \n",
       "2  Năm 1928, Bộ Giao thông khởi thảo kế hoạch côn...   \n",
       "3  Sự tiến hóa của giới thực vật đã theo xu hướng...   \n",
       "4  Kể từ những năm 1970, chính phủ cũng thực hiện...   \n",
       "\n",
       "                                              prompt  \\\n",
       "0  Quyền phản đối được khôi phục bởi Orléans đã g...   \n",
       "1  Những sông lớn nào là các tuyến đường thủy nội...   \n",
       "2  Độ dài công lộ Hán Trung-Thất Bàn Quan là bao ...   \n",
       "3  Vì thực vật hạt trần chiếm ưu thế trong việc t...   \n",
       "4  Cacs loaji dược pham muôn vào thi trường My ph...   \n",
       "\n",
       "                                            response      label  \n",
       "0  Quyền phản đối còn cho phép Nghị viện được bổ ...  extrinsic  \n",
       "1  Các tuyến đường thủy nội địa huyết mạch chạy t...  intrinsic  \n",
       "2  Công lộ Hán Trung-Thất Bàn Quan dài hơn 150 km...  extrinsic  \n",
       "3  Thực vật hạt trần kém đa dạng hơn và hiếm gặp ...         no  \n",
       "4  Các loại dược phẩm muốn vào thị trường Mỹ phải...         no  "
      ]
     },
     "execution_count": 3,
     "metadata": {},
     "output_type": "execute_result"
    }
   ],
   "source": [
    "filepath_path = \"data/vihallu-warmup.csv\"\n",
    "data = read_data(filepath_path)\n",
    "data.head()"
   ]
  },
  {
   "cell_type": "markdown",
   "id": "4d7a5ffa",
   "metadata": {},
   "source": [
    "#### Problem Details\n",
    "- Input: context, prompt, & response\n",
    "\n",
    "- Output: label (no|extrinsic|intrinsic)\n",
    "    - no: \n",
    "        - It is completely consistent and truthful with the information provided in the context.\n",
    "        - It does not contain any false information or information that cannot be directly inferred from the context.\n",
    "        - It answers correctly based on the context.\n",
    "    - extrinsic:\n",
    "        - It directly contradicts or distorts information clearly provided in the context.\n",
    "        - The content of the illusion is still based on entities or concepts present in the context, but the information about them is altered or distorted.\n",
    "        - The LLM produces a misleading answer that sounds quite plausible in that context.\n",
    "    - intrinsic\n",
    "        - It supplements information NOT PRESENT in the context.\n",
    "        - The additional information cannot be inferred from the context.\n",
    "        - The additional information might be true in the real world, but it is not provided in the context.\n",
    "        - The response still tries to answer the prompt but adds details not originating from the context."
   ]
  },
  {
   "cell_type": "markdown",
   "id": "c94814b5",
   "metadata": {},
   "source": [
    "### Data Analysis"
   ]
  },
  {
   "cell_type": "code",
   "execution_count": 22,
   "id": "799ae4d4",
   "metadata": {},
   "outputs": [
    {
     "name": "stdout",
     "output_type": "stream",
     "text": [
      "Distribution of label:\n",
      "        label  count\n",
      "0  extrinsic     66\n",
      "1  intrinsic     66\n",
      "2         no     66\n"
     ]
    }
   ],
   "source": [
    "print(\"Distribution of label:\\n\", data['label'].value_counts().reset_index())"
   ]
  },
  {
   "cell_type": "code",
   "execution_count": 17,
   "id": "85ce13b4",
   "metadata": {},
   "outputs": [
    {
     "data": {
      "image/png": "[encoded data removed]",
      "text/plain": [
       "<Figure size 400x400 with 1 Axes>"
      ]
     },
     "metadata": {},
     "output_type": "display_data"
    }
   ],
   "source": [
    "data['context_len'] = data['context'].astype(str).apply(len)\n",
    "data['prompt_len'] = data['prompt'].astype(str).apply(len)\n",
    "data['response_len'] = data['response'].astype(str).apply(len)\n",
    "\n",
    "plt.figure(figsize=(4, 4))\n",
    "sns.boxplot(data=data[['context_len', 'prompt_len', 'response_len']])\n",
    "plt.title('Box plot of string length for context, prompt, and response.')\n",
    "plt.ylabel('Length')\n",
    "plt.tight_layout()\n",
    "plt.show()"
   ]
  },
  {
   "cell_type": "code",
   "execution_count": 21,
   "id": "193de752",
   "metadata": {},
   "outputs": [
    {
     "name": "stdout",
     "output_type": "stream",
     "text": [
      "Mean lengths of input by label:\n",
      "        label  context_len  prompt_len  response_len\n",
      "0  extrinsic   858.575758  128.803030    218.787879\n",
      "1  intrinsic   844.090909  136.515152    178.757576\n",
      "2         no   832.560606  129.818182    153.121212\n"
     ]
    }
   ],
   "source": [
    "print(\"Mean lengths of input by label:\\n\", data.groupby('label')[['context_len', 'prompt_len', 'response_len']].mean().reset_index())"
   ]
  },
  {
   "cell_type": "code",
   "execution_count": null,
   "id": "e343a0cc",
   "metadata": {},
   "outputs": [],
   "source": []
  }
 ],
 "metadata": {
  "kernelspec": {
   "display_name": "base-11",
   "language": "python",
   "name": "python3"
  },
  "language_info": {
   "codemirror_mode": {
    "name": "ipython",
    "version": 3
   },
   "file_extension": ".py",
   "mimetype": "text/x-python",
   "name": "python",
   "nbconvert_exporter": "python",
   "pygments_lexer": "ipython3",
   "version": "3.11.13"
  }
 },
 "nbformat": 4,
 "nbformat_minor": 5
}
