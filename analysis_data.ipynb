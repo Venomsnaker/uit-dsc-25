{
 "cells": [
  {
   "cell_type": "markdown",
   "id": "05a51ad0",
   "metadata": {},
   "source": [
    "### Packages & Data"
   ]
  },
  {
   "cell_type": "code",
   "execution_count": 1,
   "id": "f424f3d5",
   "metadata": {},
   "outputs": [],
   "source": [
    "import pandas as pd\n",
    "import matplotlib.pyplot as plt\n",
    "import seaborn as sns\n",
    "\n",
    "from utils import load_data"
   ]
  },
  {
   "cell_type": "code",
   "execution_count": 2,
   "id": "178ba031",
   "metadata": {},
   "outputs": [
    {
     "data": {
      "text/html": [
       "<div>\n",
       "<style scoped>\n",
       "    .dataframe tbody tr th:only-of-type {\n",
       "        vertical-align: middle;\n",
       "    }\n",
       "\n",
       "    .dataframe tbody tr th {\n",
       "        vertical-align: top;\n",
       "    }\n",
       "\n",
       "    .dataframe thead th {\n",
       "        text-align: right;\n",
       "    }\n",
       "</style>\n",
       "<table border=\"1\" class=\"dataframe\">\n",
       "  <thead>\n",
       "    <tr style=\"text-align: right;\">\n",
       "      <th></th>\n",
       "      <th>id</th>\n",
       "      <th>context</th>\n",
       "      <th>prompt</th>\n",
       "      <th>response</th>\n",
       "      <th>label</th>\n",
       "    </tr>\n",
       "  </thead>\n",
       "  <tbody>\n",
       "    <tr>\n",
       "      <th>0</th>\n",
       "      <td>9b1ea51d-d1ff-45ba-8cf1-6a91328e8600</td>\n",
       "      <td>Vào những năm 1870, hai nhà điêu khắc Augustus...</td>\n",
       "      <td>Vào những năm 1960, nơi nào trở thành trung tâ...</td>\n",
       "      <td>Quảng trường Washington là trung tâm của thế h...</td>\n",
       "      <td>extrinsic</td>\n",
       "    </tr>\n",
       "    <tr>\n",
       "      <th>1</th>\n",
       "      <td>db7a89c6-2a6a-42af-beef-58e557ecc819</td>\n",
       "      <td>Cách mạng Tháng Mười đã biến một cuộc chiến tr...</td>\n",
       "      <td>Cách mạng Tháng Mười đã khởi xướng chủ nghĩa p...</td>\n",
       "      <td>Sai. Cách mạng Tháng Mười đã đánh bại chủ nghĩ...</td>\n",
       "      <td>no</td>\n",
       "    </tr>\n",
       "    <tr>\n",
       "      <th>2</th>\n",
       "      <td>10fca062-d343-4eca-8434-93c7a8aa5e0e</td>\n",
       "      <td>Vị trí địa lý nằm giữa phương Đông và Địa Trun...</td>\n",
       "      <td>Dựa trên việc Đế quốc Ottoman không bao giờ ki...</td>\n",
       "      <td>Nền ẩm thực của Thổ Nhĩ Kỳ được xây dựng từ gi...</td>\n",
       "      <td>extrinsic</td>\n",
       "    </tr>\n",
       "    <tr>\n",
       "      <th>3</th>\n",
       "      <td>ece8eb9e-d6bb-407a-a567-d9531861c603</td>\n",
       "      <td>Hồ Quý Ly trước có tên là Lê Quý Ly (黎季犛), biể...</td>\n",
       "      <td>Đời cháu thứ 12 của Hồ Hưng Dật sống ở đâu?</td>\n",
       "      <td>Đời cháu thứ 12 của Hồ Hưng Dật, là Hồ Liêm, s...</td>\n",
       "      <td>no</td>\n",
       "    </tr>\n",
       "    <tr>\n",
       "      <th>4</th>\n",
       "      <td>b613217f-df2a-491e-8326-25811a31eb09</td>\n",
       "      <td>Năm 2007, Bồ Đào Nha có khoảng 332.137 người n...</td>\n",
       "      <td>Từ thập niên 1990, tại sao xuất hiện một vài l...</td>\n",
       "      <td>Mặc dù Bồ Đào Nha đã đóng cửa biên giới hoàn t...</td>\n",
       "      <td>intrinsic</td>\n",
       "    </tr>\n",
       "  </tbody>\n",
       "</table>\n",
       "</div>"
      ],
      "text/plain": [
       "                                     id  \\\n",
       "0  9b1ea51d-d1ff-45ba-8cf1-6a91328e8600   \n",
       "1  db7a89c6-2a6a-42af-beef-58e557ecc819   \n",
       "2  10fca062-d343-4eca-8434-93c7a8aa5e0e   \n",
       "3  ece8eb9e-d6bb-407a-a567-d9531861c603   \n",
       "4  b613217f-df2a-491e-8326-25811a31eb09   \n",
       "\n",
       "                                             context  \\\n",
       "0  Vào những năm 1870, hai nhà điêu khắc Augustus...   \n",
       "1  Cách mạng Tháng Mười đã biến một cuộc chiến tr...   \n",
       "2  Vị trí địa lý nằm giữa phương Đông và Địa Trun...   \n",
       "3  Hồ Quý Ly trước có tên là Lê Quý Ly (黎季犛), biể...   \n",
       "4  Năm 2007, Bồ Đào Nha có khoảng 332.137 người n...   \n",
       "\n",
       "                                              prompt  \\\n",
       "0  Vào những năm 1960, nơi nào trở thành trung tâ...   \n",
       "1  Cách mạng Tháng Mười đã khởi xướng chủ nghĩa p...   \n",
       "2  Dựa trên việc Đế quốc Ottoman không bao giờ ki...   \n",
       "3        Đời cháu thứ 12 của Hồ Hưng Dật sống ở đâu?   \n",
       "4  Từ thập niên 1990, tại sao xuất hiện một vài l...   \n",
       "\n",
       "                                            response      label  \n",
       "0  Quảng trường Washington là trung tâm của thế h...  extrinsic  \n",
       "1  Sai. Cách mạng Tháng Mười đã đánh bại chủ nghĩ...         no  \n",
       "2  Nền ẩm thực của Thổ Nhĩ Kỳ được xây dựng từ gi...  extrinsic  \n",
       "3  Đời cháu thứ 12 của Hồ Hưng Dật, là Hồ Liêm, s...         no  \n",
       "4  Mặc dù Bồ Đào Nha đã đóng cửa biên giới hoàn t...  intrinsic  "
      ]
     },
     "execution_count": 2,
     "metadata": {},
     "output_type": "execute_result"
    }
   ],
   "source": [
    "filepath_path = \"data/vihallu-train.csv\"\n",
    "data = load_data(filepath_path)\n",
    "data.head()"
   ]
  },
  {
   "cell_type": "markdown",
   "id": "4d7a5ffa",
   "metadata": {},
   "source": [
    "#### Problem Details\n",
    "- Input: context, prompt, & response\n",
    "\n",
    "- Output: label (no|extrinsic|intrinsic)\n",
    "    - no: \n",
    "        - It is completely consistent and truthful with the information provided in the context.\n",
    "        - It does not contain any false information or information that cannot be directly inferred from the context.\n",
    "        - It answers correctly based on the context.\n",
    "    - extrinsic:\n",
    "        - It directly contradicts or distorts information clearly provided in the context.\n",
    "        - The content of the illusion is still based on entities or concepts present in the context, but the information about them is altered or distorted.\n",
    "        - The LLM produces a misleading answer that sounds quite plausible in that context.\n",
    "    - intrinsic\n",
    "        - It supplements information NOT PRESENT in the context.\n",
    "        - The additional information cannot be inferred from the context.\n",
    "        - The additional information might be true in the real world, but it is not provided in the context.\n",
    "        - The response still tries to answer the prompt but adds details not originating from the context."
   ]
  },
  {
   "cell_type": "markdown",
   "id": "c94814b5",
   "metadata": {},
   "source": [
    "### Data Analysis"
   ]
  },
  {
   "cell_type": "code",
   "execution_count": 3,
   "id": "799ae4d4",
   "metadata": {},
   "outputs": [
    {
     "name": "stdout",
     "output_type": "stream",
     "text": [
      "Distribution of label:\n",
      "        label  count\n",
      "0  intrinsic   2448\n",
      "1  extrinsic   2307\n",
      "2         no   2245\n"
     ]
    }
   ],
   "source": [
    "print(\"Distribution of label:\\n\", data['label'].value_counts().reset_index())"
   ]
  },
  {
   "cell_type": "code",
   "execution_count": 4,
   "id": "85ce13b4",
   "metadata": {},
   "outputs": [
    {
     "data": {
      "image/png": "[encoded data removed]",
      "text/plain": [
       "<Figure size 640x480 with 1 Axes>"
      ]
     },
     "metadata": {},
     "output_type": "display_data"
    }
   ],
   "source": [
    "data['prompt_len'] = data['prompt'].astype(str).apply(len)\n",
    "data['response_len'] = data['response'].astype(str).apply(len)\n",
    "\n",
    "plt.figure()\n",
    "sns.boxplot(data=data[['prompt_len', 'response_len']])\n",
    "plt.title('Box plot of string length for prompt, and response.')\n",
    "plt.ylabel('Length')\n",
    "plt.tight_layout()\n",
    "plt.show()"
   ]
  },
  {
   "cell_type": "code",
   "execution_count": 5,
   "id": "193de752",
   "metadata": {},
   "outputs": [
    {
     "name": "stdout",
     "output_type": "stream",
     "text": [
      "Mean lengths of input by label:\n",
      "        label  context_len  prompt_len  response_len\n",
      "0  extrinsic   819.482445  118.396186    210.470308\n",
      "1  intrinsic   839.661356  123.687908    179.891748\n",
      "2         no   829.976837  120.155902    151.793318\n"
     ]
    }
   ],
   "source": [
    "data['context_len'] = data['context'].astype(str).apply(len)\n",
    "print(\"Mean lengths of input by label:\\n\", data.groupby('label')[['context_len', 'prompt_len', 'response_len']].mean().reset_index())"
   ]
  },
  {
   "cell_type": "code",
   "execution_count": 9,
   "id": "eb9bf59b",
   "metadata": {},
   "outputs": [
    {
     "data": {
      "text/plain": [
       "response_sentence_count\n",
       "1    4495\n",
       "2    2185\n",
       "3     279\n",
       "4      28\n",
       "5      10\n",
       "6       3\n",
       "Name: count, dtype: int64"
      ]
     },
     "execution_count": 9,
     "metadata": {},
     "output_type": "execute_result"
    }
   ],
   "source": [
    "def sentence_count(text):\n",
    "    sentences = text.split('.')  \n",
    "    sentences = [s.strip() for s in sentences if s.strip()] \n",
    "    return len(sentences)\n",
    "\n",
    "data['response_sentence_count'] = data['response'].apply(sentence_count)\n",
    "frequency_table = data['response_sentence_count'].value_counts().sort_index()\n",
    "frequency_table"
   ]
  }
 ],
 "metadata": {
  "kernelspec": {
   "display_name": "base-12",
   "language": "python",
   "name": "python3"
  },
  "language_info": {
   "codemirror_mode": {
    "name": "ipython",
    "version": 3
   },
   "file_extension": ".py",
   "mimetype": "text/x-python",
   "name": "python",
   "nbconvert_exporter": "python",
   "pygments_lexer": "ipython3",
   "version": "3.12.11"
  }
 },
 "nbformat": 4,
 "nbformat_minor": 5
}
