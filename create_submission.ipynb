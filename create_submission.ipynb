{
 "cells": [
  {
   "cell_type": "markdown",
   "id": "eb5fb0a8",
   "metadata": {},
   "source": [
    "#### Set Up"
   ]
  },
  {
   "cell_type": "code",
   "execution_count": 1,
   "id": "090b11b9",
   "metadata": {},
   "outputs": [
    {
     "name": "stderr",
     "output_type": "stream",
     "text": [
      "c:\\Users\\ADMIN\\.conda\\envs\\base-12\\Lib\\site-packages\\tqdm\\auto.py:21: TqdmWarning: IProgress not found. Please update jupyter and ipywidgets. See https://ipywidgets.readthedocs.io/en/stable/user_install.html\n",
      "  from .autonotebook import tqdm as notebook_tqdm\n"
     ]
    }
   ],
   "source": [
    "from tqdm import tqdm\n",
    "import pandas as pd\n",
    "\n",
    "from direct_asking import DirectAsking\n",
    "from utils import load_data"
   ]
  },
  {
   "cell_type": "code",
   "execution_count": 2,
   "id": "bcac45a1",
   "metadata": {},
   "outputs": [
    {
     "name": "stdout",
     "output_type": "stream",
     "text": [
      "Length of test set: 1000\n"
     ]
    },
    {
     "data": {
      "text/html": [
       "<div>\n",
       "<style scoped>\n",
       "    .dataframe tbody tr th:only-of-type {\n",
       "        vertical-align: middle;\n",
       "    }\n",
       "\n",
       "    .dataframe tbody tr th {\n",
       "        vertical-align: top;\n",
       "    }\n",
       "\n",
       "    .dataframe thead th {\n",
       "        text-align: right;\n",
       "    }\n",
       "</style>\n",
       "<table border=\"1\" class=\"dataframe\">\n",
       "  <thead>\n",
       "    <tr style=\"text-align: right;\">\n",
       "      <th></th>\n",
       "      <th>id</th>\n",
       "      <th>context</th>\n",
       "      <th>prompt</th>\n",
       "      <th>response</th>\n",
       "      <th>predict_label</th>\n",
       "    </tr>\n",
       "  </thead>\n",
       "  <tbody>\n",
       "    <tr>\n",
       "      <th>0</th>\n",
       "      <td>b709059b-b3b6-4ac2-bb88-2c794e2cc219</td>\n",
       "      <td>Putin ngày 14 tháng 10 năm 2009, đưa ra đề ngh...</td>\n",
       "      <td>Ý nhĩa cũa viẹc tổ chưc cuôc thi Intervision l...</td>\n",
       "      <td>Cuộc thi Intervision, dự kiến lấy cảm hứng từ ...</td>\n",
       "      <td>NaN</td>\n",
       "    </tr>\n",
       "    <tr>\n",
       "      <th>1</th>\n",
       "      <td>7dc35ef5-c4b7-4538-ab90-627b9cbd896e</td>\n",
       "      <td>Thông qua những quyết nghị này, Viện nguyên lã...</td>\n",
       "      <td>Quyền lực của Viện nguyên lão đã giảm mạnh khi...</td>\n",
       "      <td>Sai. Thực tế, Viện nguyên lão vẫn duy trì quyề...</td>\n",
       "      <td>NaN</td>\n",
       "    </tr>\n",
       "    <tr>\n",
       "      <th>2</th>\n",
       "      <td>cfdfa010-f61c-4845-91c9-23f79be2b88b</td>\n",
       "      <td>Nơi cư ngụ truyền thống Mông Cổ được gọi là mộ...</td>\n",
       "      <td>Theo quan điểm của ai thì kiến trúc truyền thố...</td>\n",
       "      <td>Ngoài N. Chultem, một số học giả như nhà sử họ...</td>\n",
       "      <td>NaN</td>\n",
       "    </tr>\n",
       "    <tr>\n",
       "      <th>3</th>\n",
       "      <td>31b33c97-2f59-4e72-8707-f47de204d7f9</td>\n",
       "      <td>Là thành phố thủ đô và có vị trí ở khu vực tru...</td>\n",
       "      <td>Hà Nội hiện nay có tuyến đường sắt quốc tế kết...</td>\n",
       "      <td>Hà Nội hiện nay có tuyến đường sắt quốc tế trự...</td>\n",
       "      <td>NaN</td>\n",
       "    </tr>\n",
       "    <tr>\n",
       "      <th>4</th>\n",
       "      <td>a2c83a00-e8b7-4236-86ce-5e0104df074a</td>\n",
       "      <td>Từ 1974 đến nay tốc độ phát triển tuy chậm lại...</td>\n",
       "      <td>Câu hỏi gài bẫy: Tiền đề để trở thành một quốc...</td>\n",
       "      <td>Tiền đề để Nhật Bản trở thành quốc gia cho vay...</td>\n",
       "      <td>NaN</td>\n",
       "    </tr>\n",
       "  </tbody>\n",
       "</table>\n",
       "</div>"
      ],
      "text/plain": [
       "                                     id  \\\n",
       "0  b709059b-b3b6-4ac2-bb88-2c794e2cc219   \n",
       "1  7dc35ef5-c4b7-4538-ab90-627b9cbd896e   \n",
       "2  cfdfa010-f61c-4845-91c9-23f79be2b88b   \n",
       "3  31b33c97-2f59-4e72-8707-f47de204d7f9   \n",
       "4  a2c83a00-e8b7-4236-86ce-5e0104df074a   \n",
       "\n",
       "                                             context  \\\n",
       "0  Putin ngày 14 tháng 10 năm 2009, đưa ra đề ngh...   \n",
       "1  Thông qua những quyết nghị này, Viện nguyên lã...   \n",
       "2  Nơi cư ngụ truyền thống Mông Cổ được gọi là mộ...   \n",
       "3  Là thành phố thủ đô và có vị trí ở khu vực tru...   \n",
       "4  Từ 1974 đến nay tốc độ phát triển tuy chậm lại...   \n",
       "\n",
       "                                              prompt  \\\n",
       "0  Ý nhĩa cũa viẹc tổ chưc cuôc thi Intervision l...   \n",
       "1  Quyền lực của Viện nguyên lão đã giảm mạnh khi...   \n",
       "2  Theo quan điểm của ai thì kiến trúc truyền thố...   \n",
       "3  Hà Nội hiện nay có tuyến đường sắt quốc tế kết...   \n",
       "4  Câu hỏi gài bẫy: Tiền đề để trở thành một quốc...   \n",
       "\n",
       "                                            response  predict_label  \n",
       "0  Cuộc thi Intervision, dự kiến lấy cảm hứng từ ...            NaN  \n",
       "1  Sai. Thực tế, Viện nguyên lão vẫn duy trì quyề...            NaN  \n",
       "2  Ngoài N. Chultem, một số học giả như nhà sử họ...            NaN  \n",
       "3  Hà Nội hiện nay có tuyến đường sắt quốc tế trự...            NaN  \n",
       "4  Tiền đề để Nhật Bản trở thành quốc gia cho vay...            NaN  "
      ]
     },
     "execution_count": 2,
     "metadata": {},
     "output_type": "execute_result"
    }
   ],
   "source": [
    "test_path = 'data/vihallu-public-test.csv'\n",
    "output_path = 'data/output/submission_da_qwen3_4b.csv'\n",
    "\n",
    "test = load_data(test_path)\n",
    "print(f'Length of test set: {len(test)}')\n",
    "test.head()"
   ]
  },
  {
   "cell_type": "code",
   "execution_count": 3,
   "id": "5b572f0c",
   "metadata": {},
   "outputs": [
    {
     "name": "stderr",
     "output_type": "stream",
     "text": [
      "Loading checkpoint shards: 100%|██████████| 3/3 [00:06<00:00,  2.27s/it]\n",
      "Some parameters are on the meta device because they were offloaded to the cpu.\n"
     ]
    }
   ],
   "source": [
    "direct_asking = DirectAsking(\n",
    "    model_name='Qwen/Qwen3-4B-Instruct-2507',\n",
    "    user_prompt_path='prompts/direct_asking_user.txt',\n",
    ")"
   ]
  },
  {
   "cell_type": "markdown",
   "id": "e2409981",
   "metadata": {},
   "source": [
    "#### Labeling"
   ]
  },
  {
   "cell_type": "code",
   "execution_count": 4,
   "id": "da2e5b12",
   "metadata": {},
   "outputs": [
    {
     "name": "stderr",
     "output_type": "stream",
     "text": [
      "Processing test: 100%|██████████| 1000/1000 [17:57<00:00,  1.08s/it]\n"
     ]
    }
   ],
   "source": [
    "result = pd.DataFrame(columns=['id', 'predict_label'])\n",
    "\n",
    "for _, sample in tqdm(test.iterrows(), total=len(test), desc='Processing test'):\n",
    "    id = sample['id']\n",
    "    label = direct_asking.predict(\n",
    "        context = sample['context'],\n",
    "        prompt = sample['prompt'],\n",
    "        response = sample['response']\n",
    "    )\n",
    "    result = pd.concat([pd.DataFrame([[id, label]], columns=result.columns), result], ignore_index=True)"
   ]
  },
  {
   "cell_type": "code",
   "execution_count": 5,
   "id": "bee7a0a2",
   "metadata": {},
   "outputs": [],
   "source": [
    "result.to_csv(output_path, index=False)"
   ]
  }
 ],
 "metadata": {
  "kernelspec": {
   "display_name": "base-12",
   "language": "python",
   "name": "python3"
  },
  "language_info": {
   "codemirror_mode": {
    "name": "ipython",
    "version": 3
   },
   "file_extension": ".py",
   "mimetype": "text/x-python",
   "name": "python",
   "nbconvert_exporter": "python",
   "pygments_lexer": "ipython3",
   "version": "3.12.11"
  }
 },
 "nbformat": 4,
 "nbformat_minor": 5
}
