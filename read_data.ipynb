{
 "cells": [
  {
   "cell_type": "code",
   "execution_count": 1,
   "id": "178ba031",
   "metadata": {},
   "outputs": [
    {
     "data": {
      "text/html": [
       "<div>\n",
       "<style scoped>\n",
       "    .dataframe tbody tr th:only-of-type {\n",
       "        vertical-align: middle;\n",
       "    }\n",
       "\n",
       "    .dataframe tbody tr th {\n",
       "        vertical-align: top;\n",
       "    }\n",
       "\n",
       "    .dataframe thead th {\n",
       "        text-align: right;\n",
       "    }\n",
       "</style>\n",
       "<table border=\"1\" class=\"dataframe\">\n",
       "  <thead>\n",
       "    <tr style=\"text-align: right;\">\n",
       "      <th></th>\n",
       "      <th>id</th>\n",
       "      <th>context</th>\n",
       "      <th>prompt</th>\n",
       "      <th>response</th>\n",
       "      <th>label</th>\n",
       "    </tr>\n",
       "  </thead>\n",
       "  <tbody>\n",
       "    <tr>\n",
       "      <th>0</th>\n",
       "      <td>c480e0d2-72e5-47d6-baca-a884db935c8c</td>\n",
       "      <td>Theo pháp lệnh Vincennes năm 1374, vương quốc ...</td>\n",
       "      <td>Quyền phản đối được khôi phục bởi Orléans đã g...</td>\n",
       "      <td>Quyền phản đối còn cho phép Nghị viện được bổ ...</td>\n",
       "      <td>extrinsic</td>\n",
       "    </tr>\n",
       "    <tr>\n",
       "      <th>1</th>\n",
       "      <td>8e225849-4ed1-4397-8519-2b4cfee0c7c6</td>\n",
       "      <td>Hệ thống đường biển xuất phát từ các cảng biển...</td>\n",
       "      <td>Những sông lớn nào là các tuyến đường thủy nội...</td>\n",
       "      <td>Các tuyến đường thủy nội địa huyết mạch chạy t...</td>\n",
       "      <td>intrinsic</td>\n",
       "    </tr>\n",
       "    <tr>\n",
       "      <th>2</th>\n",
       "      <td>c5a2aef8-4c3f-4bac-9fc3-814094578fc0</td>\n",
       "      <td>Năm 1928, Bộ Giao thông khởi thảo kế hoạch côn...</td>\n",
       "      <td>Độ dài công lộ Hán Trung-Thất Bàn Quan là bao ...</td>\n",
       "      <td>Công lộ Hán Trung-Thất Bàn Quan dài hơn 150 km...</td>\n",
       "      <td>extrinsic</td>\n",
       "    </tr>\n",
       "    <tr>\n",
       "      <th>3</th>\n",
       "      <td>0bae8fee-cd84-4ec1-a324-0777f6fa7a32</td>\n",
       "      <td>Sự tiến hóa của giới thực vật đã theo xu hướng...</td>\n",
       "      <td>Vì thực vật hạt trần chiếm ưu thế trong việc t...</td>\n",
       "      <td>Thực vật hạt trần kém đa dạng hơn và hiếm gặp ...</td>\n",
       "      <td>no</td>\n",
       "    </tr>\n",
       "    <tr>\n",
       "      <th>4</th>\n",
       "      <td>a8dcd1ed-c9a1-4786-b97b-27244896ff95</td>\n",
       "      <td>Kể từ những năm 1970, chính phủ cũng thực hiện...</td>\n",
       "      <td>Cacs loaji dược pham muôn vào thi trường My ph...</td>\n",
       "      <td>Các loại dược phẩm muốn vào thị trường Mỹ phải...</td>\n",
       "      <td>no</td>\n",
       "    </tr>\n",
       "  </tbody>\n",
       "</table>\n",
       "</div>"
      ],
      "text/plain": [
       "                                     id  ...      label\n",
       "0  c480e0d2-72e5-47d6-baca-a884db935c8c  ...  extrinsic\n",
       "1  8e225849-4ed1-4397-8519-2b4cfee0c7c6  ...  intrinsic\n",
       "2  c5a2aef8-4c3f-4bac-9fc3-814094578fc0  ...  extrinsic\n",
       "3  0bae8fee-cd84-4ec1-a324-0777f6fa7a32  ...         no\n",
       "4  a8dcd1ed-c9a1-4786-b97b-27244896ff95  ...         no\n",
       "\n",
       "[5 rows x 5 columns]"
      ]
     },
     "execution_count": 1,
     "metadata": {},
     "output_type": "execute_result"
    }
   ],
   "source": [
    "import pandas as pd\n",
    "\n",
    "data_path = \"data/vihallu-warmup.csv\"\n",
    "data = pd.read_csv(data_path, encoding='utf-8')\n",
    "data.head()"
   ]
  }
 ],
 "metadata": {
  "kernelspec": {
   "display_name": "base-11",
   "language": "python",
   "name": "python3"
  },
  "language_info": {
   "codemirror_mode": {
    "name": "ipython",
    "version": 3
   },
   "file_extension": ".py",
   "mimetype": "text/x-python",
   "name": "python",
   "nbconvert_exporter": "python",
   "pygments_lexer": "ipython3",
   "version": "3.11.13"
  }
 },
 "nbformat": 4,
 "nbformat_minor": 5
}
